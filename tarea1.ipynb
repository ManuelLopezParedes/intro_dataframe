{
  "nbformat": 4,
  "nbformat_minor": 0,
  "metadata": {
    "colab": {
      "provenance": []
    },
    "kernelspec": {
      "name": "python3",
      "display_name": "Python 3"
    },
    "language_info": {
      "name": "python"
    }
  },
  "cells": [
    {
      "cell_type": "code",
      "execution_count": 19,
      "metadata": {
        "id": "YhBz2zbGDYqP"
      },
      "outputs": [],
      "source": [
        "import pandas as pd\n",
        "import numpy as np\n",
        "\n",
        "alcohol_series = pd.Series([np.nan,4.9,0.7,np.nan,12.4,5.9,4.9,8.3,3.8,1.4,9.7,1.3,6.3,\n",
        "    5.6,11.2,4.3,4.9,7.2,4.9,6.3,5.5,6.6,9.8,7.2,5.0,4.9,6.8,7.7,6.3,13.7,3.9,3.3,3.8,\n",
        "    13.8,4.7,6.3,1.4,3.8,4.9,1.5,4.9,1.0,8.3,4.9,6.9,4.5,6.0,1.9,6.4,4.5,10.8,6.3,4.5,3.4,\n",
        "    8.9,1.3,8.2,2.5,4.3,1.6,5.0,9.2,7.1,4.6,5.8,1.6,6.4,8.1,4.9,3.8,7.9,1.5,4.0,7.0,6.8,\n",
        "    8.3,5.6,4.4,8.0,2.3,7.4,6.13,0.2,5.2,6.5,7.8,4.7,7.5,7.1,6.5,5.0,5.6,6.1,0.4,3.9,5.2,1.1,\n",
        "    4.4,4.6,1.9,4.8,1.4,2.0,10.9,1.3,10.1,7.6,4.3,6.3,8.7,7.1,6.7,2.6,4.0,7.7,1.5,5.9,\n",
        "    10.1,4.8,11.5,4.6,9.4,2.9,1.1,4.7,4.4,7.8,8.9,11.6,5.5,10.3,1.3,2.5,4.8,8.3,6.2,0.1,0.1,\n",
        "    7.7,1.2,15.4,2.9,6.2,0.2,9.0,1.0,6.5,4.8,4.2,4.4,0.5,3.4,7.0,0.5,6.8,1.8,1.0,np.nan,2.4,\n",
        "    6.2,1.5,1.9,2.0,1.1,8.4,2.4,6.3,1.0,5.5,3.3,4.9,5.6,3.7,7.7,5.8,5.4,1.6,6.1,2.7,3.4,3.4,\n",
        "    9.8,1.7,7.8,8.6,6.8,2.0,6.3,7.2,9.2,3.9,9.9,2.0,1.2,4.5,5.6,4.5,6.5,7.9,2.0,1.2,2.2,1.7,\n",
        "    1.6,10.2,2.2,1.2,8.4,5.7,10.4,np.nan,6.7,3.5,9.8,7.6,8.7,6.6,2.4,0.9,7.7,2.0,0.1,2.5,4.7\n",
        "])"
      ]
    },
    {
      "cell_type": "code",
      "source": [
        "alcohol_series.describe()"
      ],
      "metadata": {
        "colab": {
          "base_uri": "https://localhost:8080/",
          "height": 335
        },
        "id": "kXH0glrvD1Cy",
        "outputId": "6b4e4566-efde-4a63-88f4-8d84091ca711"
      },
      "execution_count": 20,
      "outputs": [
        {
          "output_type": "execute_result",
          "data": {
            "text/plain": [
              "count    220.000000\n",
              "mean       5.188773\n",
              "std        3.023392\n",
              "min        0.100000\n",
              "25%        2.500000\n",
              "50%        4.900000\n",
              "75%        7.100000\n",
              "max       15.400000\n",
              "dtype: float64"
            ],
            "text/html": [
              "<div>\n",
              "<style scoped>\n",
              "    .dataframe tbody tr th:only-of-type {\n",
              "        vertical-align: middle;\n",
              "    }\n",
              "\n",
              "    .dataframe tbody tr th {\n",
              "        vertical-align: top;\n",
              "    }\n",
              "\n",
              "    .dataframe thead th {\n",
              "        text-align: right;\n",
              "    }\n",
              "</style>\n",
              "<table border=\"1\" class=\"dataframe\">\n",
              "  <thead>\n",
              "    <tr style=\"text-align: right;\">\n",
              "      <th></th>\n",
              "      <th>0</th>\n",
              "    </tr>\n",
              "  </thead>\n",
              "  <tbody>\n",
              "    <tr>\n",
              "      <th>count</th>\n",
              "      <td>220.000000</td>\n",
              "    </tr>\n",
              "    <tr>\n",
              "      <th>mean</th>\n",
              "      <td>5.188773</td>\n",
              "    </tr>\n",
              "    <tr>\n",
              "      <th>std</th>\n",
              "      <td>3.023392</td>\n",
              "    </tr>\n",
              "    <tr>\n",
              "      <th>min</th>\n",
              "      <td>0.100000</td>\n",
              "    </tr>\n",
              "    <tr>\n",
              "      <th>25%</th>\n",
              "      <td>2.500000</td>\n",
              "    </tr>\n",
              "    <tr>\n",
              "      <th>50%</th>\n",
              "      <td>4.900000</td>\n",
              "    </tr>\n",
              "    <tr>\n",
              "      <th>75%</th>\n",
              "      <td>7.100000</td>\n",
              "    </tr>\n",
              "    <tr>\n",
              "      <th>max</th>\n",
              "      <td>15.400000</td>\n",
              "    </tr>\n",
              "  </tbody>\n",
              "</table>\n",
              "</div><br><label><b>dtype:</b> float64</label>"
            ]
          },
          "metadata": {},
          "execution_count": 20
        }
      ]
    },
    {
      "cell_type": "code",
      "source": [
        "np.dtype(alcohol_series)"
      ],
      "metadata": {
        "colab": {
          "base_uri": "https://localhost:8080/"
        },
        "id": "FQswU4BgDwQJ",
        "outputId": "d9beac0b-dbf0-444c-c989-cdca9b9fd62d"
      },
      "execution_count": 21,
      "outputs": [
        {
          "output_type": "execute_result",
          "data": {
            "text/plain": [
              "dtype('float64')"
            ]
          },
          "metadata": {},
          "execution_count": 21
        }
      ]
    },
    {
      "cell_type": "code",
      "source": [
        "alcohol_series.index"
      ],
      "metadata": {
        "colab": {
          "base_uri": "https://localhost:8080/"
        },
        "id": "3Mt3apcxGDEN",
        "outputId": "42238dbf-54d3-4baf-a4e3-01d568beac3a"
      },
      "execution_count": 22,
      "outputs": [
        {
          "output_type": "execute_result",
          "data": {
            "text/plain": [
              "RangeIndex(start=0, stop=224, step=1)"
            ]
          },
          "metadata": {},
          "execution_count": 22
        }
      ]
    },
    {
      "cell_type": "code",
      "source": [
        "alcohol_series.values"
      ],
      "metadata": {
        "colab": {
          "base_uri": "https://localhost:8080/"
        },
        "id": "-VjBn-lnGaSr",
        "outputId": "7557efa1-7282-4f32-c815-542f571e0ba3"
      },
      "execution_count": 23,
      "outputs": [
        {
          "output_type": "execute_result",
          "data": {
            "text/plain": [
              "array([  nan,  4.9 ,  0.7 ,   nan, 12.4 ,  5.9 ,  4.9 ,  8.3 ,  3.8 ,\n",
              "        1.4 ,  9.7 ,  1.3 ,  6.3 ,  5.6 , 11.2 ,  4.3 ,  4.9 ,  7.2 ,\n",
              "        4.9 ,  6.3 ,  5.5 ,  6.6 ,  9.8 ,  7.2 ,  5.  ,  4.9 ,  6.8 ,\n",
              "        7.7 ,  6.3 , 13.7 ,  3.9 ,  3.3 ,  3.8 , 13.8 ,  4.7 ,  6.3 ,\n",
              "        1.4 ,  3.8 ,  4.9 ,  1.5 ,  4.9 ,  1.  ,  8.3 ,  4.9 ,  6.9 ,\n",
              "        4.5 ,  6.  ,  1.9 ,  6.4 ,  4.5 , 10.8 ,  6.3 ,  4.5 ,  3.4 ,\n",
              "        8.9 ,  1.3 ,  8.2 ,  2.5 ,  4.3 ,  1.6 ,  5.  ,  9.2 ,  7.1 ,\n",
              "        4.6 ,  5.8 ,  1.6 ,  6.4 ,  8.1 ,  4.9 ,  3.8 ,  7.9 ,  1.5 ,\n",
              "        4.  ,  7.  ,  6.8 ,  8.3 ,  5.6 ,  4.4 ,  8.  ,  2.3 ,  7.4 ,\n",
              "        6.13,  0.2 ,  5.2 ,  6.5 ,  7.8 ,  4.7 ,  7.5 ,  7.1 ,  6.5 ,\n",
              "        5.  ,  5.6 ,  6.1 ,  0.4 ,  3.9 ,  5.2 ,  1.1 ,  4.4 ,  4.6 ,\n",
              "        1.9 ,  4.8 ,  1.4 ,  2.  , 10.9 ,  1.3 , 10.1 ,  7.6 ,  4.3 ,\n",
              "        6.3 ,  8.7 ,  7.1 ,  6.7 ,  2.6 ,  4.  ,  7.7 ,  1.5 ,  5.9 ,\n",
              "       10.1 ,  4.8 , 11.5 ,  4.6 ,  9.4 ,  2.9 ,  1.1 ,  4.7 ,  4.4 ,\n",
              "        7.8 ,  8.9 , 11.6 ,  5.5 , 10.3 ,  1.3 ,  2.5 ,  4.8 ,  8.3 ,\n",
              "        6.2 ,  0.1 ,  0.1 ,  7.7 ,  1.2 , 15.4 ,  2.9 ,  6.2 ,  0.2 ,\n",
              "        9.  ,  1.  ,  6.5 ,  4.8 ,  4.2 ,  4.4 ,  0.5 ,  3.4 ,  7.  ,\n",
              "        0.5 ,  6.8 ,  1.8 ,  1.  ,   nan,  2.4 ,  6.2 ,  1.5 ,  1.9 ,\n",
              "        2.  ,  1.1 ,  8.4 ,  2.4 ,  6.3 ,  1.  ,  5.5 ,  3.3 ,  4.9 ,\n",
              "        5.6 ,  3.7 ,  7.7 ,  5.8 ,  5.4 ,  1.6 ,  6.1 ,  2.7 ,  3.4 ,\n",
              "        3.4 ,  9.8 ,  1.7 ,  7.8 ,  8.6 ,  6.8 ,  2.  ,  6.3 ,  7.2 ,\n",
              "        9.2 ,  3.9 ,  9.9 ,  2.  ,  1.2 ,  4.5 ,  5.6 ,  4.5 ,  6.5 ,\n",
              "        7.9 ,  2.  ,  1.2 ,  2.2 ,  1.7 ,  1.6 , 10.2 ,  2.2 ,  1.2 ,\n",
              "        8.4 ,  5.7 , 10.4 ,   nan,  6.7 ,  3.5 ,  9.8 ,  7.6 ,  8.7 ,\n",
              "        6.6 ,  2.4 ,  0.9 ,  7.7 ,  2.  ,  0.1 ,  2.5 ,  4.7 ])"
            ]
          },
          "metadata": {},
          "execution_count": 23
        }
      ]
    },
    {
      "cell_type": "code",
      "source": [
        "alcohol_series.head(10)"
      ],
      "metadata": {
        "colab": {
          "base_uri": "https://localhost:8080/",
          "height": 397
        },
        "id": "xILXj56iGifQ",
        "outputId": "ea8c1636-5772-486d-874f-6b455767fa3e"
      },
      "execution_count": 10,
      "outputs": [
        {
          "output_type": "execute_result",
          "data": {
            "text/plain": [
              "0     NaN\n",
              "1     4.9\n",
              "2     0.7\n",
              "3     NaN\n",
              "4    12.4\n",
              "5     5.9\n",
              "6     4.9\n",
              "7     8.3\n",
              "8     3.8\n",
              "9     1.4\n",
              "dtype: float64"
            ],
            "text/html": [
              "<div>\n",
              "<style scoped>\n",
              "    .dataframe tbody tr th:only-of-type {\n",
              "        vertical-align: middle;\n",
              "    }\n",
              "\n",
              "    .dataframe tbody tr th {\n",
              "        vertical-align: top;\n",
              "    }\n",
              "\n",
              "    .dataframe thead th {\n",
              "        text-align: right;\n",
              "    }\n",
              "</style>\n",
              "<table border=\"1\" class=\"dataframe\">\n",
              "  <thead>\n",
              "    <tr style=\"text-align: right;\">\n",
              "      <th></th>\n",
              "      <th>0</th>\n",
              "    </tr>\n",
              "  </thead>\n",
              "  <tbody>\n",
              "    <tr>\n",
              "      <th>0</th>\n",
              "      <td>NaN</td>\n",
              "    </tr>\n",
              "    <tr>\n",
              "      <th>1</th>\n",
              "      <td>4.9</td>\n",
              "    </tr>\n",
              "    <tr>\n",
              "      <th>2</th>\n",
              "      <td>0.7</td>\n",
              "    </tr>\n",
              "    <tr>\n",
              "      <th>3</th>\n",
              "      <td>NaN</td>\n",
              "    </tr>\n",
              "    <tr>\n",
              "      <th>4</th>\n",
              "      <td>12.4</td>\n",
              "    </tr>\n",
              "    <tr>\n",
              "      <th>5</th>\n",
              "      <td>5.9</td>\n",
              "    </tr>\n",
              "    <tr>\n",
              "      <th>6</th>\n",
              "      <td>4.9</td>\n",
              "    </tr>\n",
              "    <tr>\n",
              "      <th>7</th>\n",
              "      <td>8.3</td>\n",
              "    </tr>\n",
              "    <tr>\n",
              "      <th>8</th>\n",
              "      <td>3.8</td>\n",
              "    </tr>\n",
              "    <tr>\n",
              "      <th>9</th>\n",
              "      <td>1.4</td>\n",
              "    </tr>\n",
              "  </tbody>\n",
              "</table>\n",
              "</div><br><label><b>dtype:</b> float64</label>"
            ]
          },
          "metadata": {},
          "execution_count": 10
        }
      ]
    },
    {
      "cell_type": "code",
      "source": [
        "alcohol_series.tail(10)"
      ],
      "metadata": {
        "colab": {
          "base_uri": "https://localhost:8080/",
          "height": 397
        },
        "id": "UBCEEuwwGqmx",
        "outputId": "ccdc20fa-574d-4abf-93a3-09c4b28927d2"
      },
      "execution_count": 11,
      "outputs": [
        {
          "output_type": "execute_result",
          "data": {
            "text/plain": [
              "214    7.6\n",
              "215    8.7\n",
              "216    6.6\n",
              "217    2.4\n",
              "218    0.9\n",
              "219    7.7\n",
              "220    2.0\n",
              "221    0.1\n",
              "222    2.5\n",
              "223    4.7\n",
              "dtype: float64"
            ],
            "text/html": [
              "<div>\n",
              "<style scoped>\n",
              "    .dataframe tbody tr th:only-of-type {\n",
              "        vertical-align: middle;\n",
              "    }\n",
              "\n",
              "    .dataframe tbody tr th {\n",
              "        vertical-align: top;\n",
              "    }\n",
              "\n",
              "    .dataframe thead th {\n",
              "        text-align: right;\n",
              "    }\n",
              "</style>\n",
              "<table border=\"1\" class=\"dataframe\">\n",
              "  <thead>\n",
              "    <tr style=\"text-align: right;\">\n",
              "      <th></th>\n",
              "      <th>0</th>\n",
              "    </tr>\n",
              "  </thead>\n",
              "  <tbody>\n",
              "    <tr>\n",
              "      <th>214</th>\n",
              "      <td>7.6</td>\n",
              "    </tr>\n",
              "    <tr>\n",
              "      <th>215</th>\n",
              "      <td>8.7</td>\n",
              "    </tr>\n",
              "    <tr>\n",
              "      <th>216</th>\n",
              "      <td>6.6</td>\n",
              "    </tr>\n",
              "    <tr>\n",
              "      <th>217</th>\n",
              "      <td>2.4</td>\n",
              "    </tr>\n",
              "    <tr>\n",
              "      <th>218</th>\n",
              "      <td>0.9</td>\n",
              "    </tr>\n",
              "    <tr>\n",
              "      <th>219</th>\n",
              "      <td>7.7</td>\n",
              "    </tr>\n",
              "    <tr>\n",
              "      <th>220</th>\n",
              "      <td>2.0</td>\n",
              "    </tr>\n",
              "    <tr>\n",
              "      <th>221</th>\n",
              "      <td>0.1</td>\n",
              "    </tr>\n",
              "    <tr>\n",
              "      <th>222</th>\n",
              "      <td>2.5</td>\n",
              "    </tr>\n",
              "    <tr>\n",
              "      <th>223</th>\n",
              "      <td>4.7</td>\n",
              "    </tr>\n",
              "  </tbody>\n",
              "</table>\n",
              "</div><br><label><b>dtype:</b> float64</label>"
            ]
          },
          "metadata": {},
          "execution_count": 11
        }
      ]
    },
    {
      "cell_type": "code",
      "source": [
        "alcohol_series.count()"
      ],
      "metadata": {
        "colab": {
          "base_uri": "https://localhost:8080/"
        },
        "id": "tpldvUwfGywv",
        "outputId": "7ab92695-1b86-4f94-d83d-6e7e8f875644"
      },
      "execution_count": 12,
      "outputs": [
        {
          "output_type": "execute_result",
          "data": {
            "text/plain": [
              "np.int64(220)"
            ]
          },
          "metadata": {},
          "execution_count": 12
        }
      ]
    },
    {
      "cell_type": "code",
      "source": [
        "alcohol_series.value_counts()"
      ],
      "metadata": {
        "colab": {
          "base_uri": "https://localhost:8080/",
          "height": 458
        },
        "id": "YVpThK-eHQ-w",
        "outputId": "5c5eb293-d10d-449e-d2ed-50c5ea1bb4e2"
      },
      "execution_count": 13,
      "outputs": [
        {
          "output_type": "execute_result",
          "data": {
            "text/plain": [
              "4.9     10\n",
              "6.3      8\n",
              "2.0      6\n",
              "5.6      5\n",
              "4.5      5\n",
              "        ..\n",
              "10.2     1\n",
              "5.7      1\n",
              "10.4     1\n",
              "3.5      1\n",
              "0.9      1\n",
              "Name: count, Length: 94, dtype: int64"
            ],
            "text/html": [
              "<div>\n",
              "<style scoped>\n",
              "    .dataframe tbody tr th:only-of-type {\n",
              "        vertical-align: middle;\n",
              "    }\n",
              "\n",
              "    .dataframe tbody tr th {\n",
              "        vertical-align: top;\n",
              "    }\n",
              "\n",
              "    .dataframe thead th {\n",
              "        text-align: right;\n",
              "    }\n",
              "</style>\n",
              "<table border=\"1\" class=\"dataframe\">\n",
              "  <thead>\n",
              "    <tr style=\"text-align: right;\">\n",
              "      <th></th>\n",
              "      <th>count</th>\n",
              "    </tr>\n",
              "  </thead>\n",
              "  <tbody>\n",
              "    <tr>\n",
              "      <th>4.9</th>\n",
              "      <td>10</td>\n",
              "    </tr>\n",
              "    <tr>\n",
              "      <th>6.3</th>\n",
              "      <td>8</td>\n",
              "    </tr>\n",
              "    <tr>\n",
              "      <th>2.0</th>\n",
              "      <td>6</td>\n",
              "    </tr>\n",
              "    <tr>\n",
              "      <th>5.6</th>\n",
              "      <td>5</td>\n",
              "    </tr>\n",
              "    <tr>\n",
              "      <th>4.5</th>\n",
              "      <td>5</td>\n",
              "    </tr>\n",
              "    <tr>\n",
              "      <th>...</th>\n",
              "      <td>...</td>\n",
              "    </tr>\n",
              "    <tr>\n",
              "      <th>10.2</th>\n",
              "      <td>1</td>\n",
              "    </tr>\n",
              "    <tr>\n",
              "      <th>5.7</th>\n",
              "      <td>1</td>\n",
              "    </tr>\n",
              "    <tr>\n",
              "      <th>10.4</th>\n",
              "      <td>1</td>\n",
              "    </tr>\n",
              "    <tr>\n",
              "      <th>3.5</th>\n",
              "      <td>1</td>\n",
              "    </tr>\n",
              "    <tr>\n",
              "      <th>0.9</th>\n",
              "      <td>1</td>\n",
              "    </tr>\n",
              "  </tbody>\n",
              "</table>\n",
              "<p>94 rows × 1 columns</p>\n",
              "</div><br><label><b>dtype:</b> int64</label>"
            ]
          },
          "metadata": {},
          "execution_count": 13
        }
      ]
    },
    {
      "cell_type": "code",
      "source": [
        "alcohol_series.unique()"
      ],
      "metadata": {
        "colab": {
          "base_uri": "https://localhost:8080/"
        },
        "id": "3WtfO5G-HZoN",
        "outputId": "ead7e21e-33e0-4c20-83e9-71dc5bc7d27c"
      },
      "execution_count": 15,
      "outputs": [
        {
          "output_type": "execute_result",
          "data": {
            "text/plain": [
              "array([  nan,  4.9 ,  0.7 , 12.4 ,  5.9 ,  8.3 ,  3.8 ,  1.4 ,  9.7 ,\n",
              "        1.3 ,  6.3 ,  5.6 , 11.2 ,  4.3 ,  7.2 ,  5.5 ,  6.6 ,  9.8 ,\n",
              "        5.  ,  6.8 ,  7.7 , 13.7 ,  3.9 ,  3.3 , 13.8 ,  4.7 ,  1.5 ,\n",
              "        1.  ,  6.9 ,  4.5 ,  6.  ,  1.9 ,  6.4 , 10.8 ,  3.4 ,  8.9 ,\n",
              "        8.2 ,  2.5 ,  1.6 ,  9.2 ,  7.1 ,  4.6 ,  5.8 ,  8.1 ,  7.9 ,\n",
              "        4.  ,  7.  ,  4.4 ,  8.  ,  2.3 ,  7.4 ,  6.13,  0.2 ,  5.2 ,\n",
              "        6.5 ,  7.8 ,  7.5 ,  6.1 ,  0.4 ,  1.1 ,  4.8 ,  2.  , 10.9 ,\n",
              "       10.1 ,  7.6 ,  8.7 ,  6.7 ,  2.6 , 11.5 ,  9.4 ,  2.9 , 11.6 ,\n",
              "       10.3 ,  6.2 ,  0.1 ,  1.2 , 15.4 ,  9.  ,  4.2 ,  0.5 ,  1.8 ,\n",
              "        2.4 ,  8.4 ,  3.7 ,  5.4 ,  2.7 ,  1.7 ,  8.6 ,  9.9 ,  2.2 ,\n",
              "       10.2 ,  5.7 , 10.4 ,  3.5 ,  0.9 ])"
            ]
          },
          "metadata": {},
          "execution_count": 15
        }
      ]
    },
    {
      "cell_type": "code",
      "source": [
        "alcohol_series.hist()"
      ],
      "metadata": {
        "colab": {
          "base_uri": "https://localhost:8080/",
          "height": 447
        },
        "id": "CMaApFELHdxh",
        "outputId": "5ab3dc48-af73-4d64-abb7-59d94c57329a"
      },
      "execution_count": 17,
      "outputs": [
        {
          "output_type": "execute_result",
          "data": {
            "text/plain": [
              "<Axes: >"
            ]
          },
          "metadata": {},
          "execution_count": 17
        },
        {
          "output_type": "display_data",
          "data": {
            "text/plain": [
              "<Figure size 640x480 with 1 Axes>"
            ],
            "image/png": "[encoded data removed]"
          },
          "metadata": {}
        }
      ]
    },
    {
      "cell_type": "code",
      "source": [
        "alcohol_series.plot()"
      ],
      "metadata": {
        "colab": {
          "base_uri": "https://localhost:8080/",
          "height": 449
        },
        "id": "7wiOUlDMHnm2",
        "outputId": "8eaaa224-09c7-4951-c499-da40a650fd35"
      },
      "execution_count": 18,
      "outputs": [
        {
          "output_type": "execute_result",
          "data": {
            "text/plain": [
              "<Axes: >"
            ]
          },
          "metadata": {},
          "execution_count": 18
        },
        {
          "output_type": "display_data",
          "data": {
            "text/plain": [
              "<Figure size 640x480 with 1 Axes>"
            ],
            "image/png": "[encoded data removed]"
          },
          "metadata": {}
        }
      ]
    }
  ]
}